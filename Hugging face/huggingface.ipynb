{
 "cells": [
  {
   "cell_type": "markdown",
   "metadata": {},
   "source": [
    "# Question-answering (QA) using LangChain and Hugging Face."
   ]
  },
  {
   "cell_type": "markdown",
   "metadata": {},
   "source": [
    "#### Step 1: Import Required Libraries"
   ]
  },
  {
   "cell_type": "code",
   "execution_count": null,
   "metadata": {},
   "outputs": [],
   "source": [
    "from langchain_community.document_loaders import PyPDFLoader\n",
    "from langchain_community.document_loaders import PyPDFDirectoryLoader\n",
    "from langchain.text_splitter import RecursiveCharacterTextSplitter\n",
    "from langchain_community.vectorstores import FAISS\n",
    "from langchain_community.embeddings import HuggingFaceBgeEmbeddings\n",
    "from langchain.prompts import PromptTemplate\n",
    "from langchain.chains import RetrievalQA"
   ]
  },
  {
   "cell_type": "markdown",
   "metadata": {},
   "source": [
    "#### Step 2: Load PDFs from the Folder"
   ]
  },
  {
   "cell_type": "code",
   "execution_count": null,
   "metadata": {},
   "outputs": [],
   "source": [
    "\n",
    "## Read the ppdfs from the folder\n",
    "loader=PyPDFDirectoryLoader(\"./us_census_data\")\n",
    "documents=loader.load()\n"
   ]
  },
  {
   "cell_type": "markdown",
   "metadata": {},
   "source": [
    "#### Step 3: Split Documents into Chunks"
   ]
  },
  {
   "cell_type": "code",
   "execution_count": null,
   "metadata": {},
   "outputs": [],
   "source": [
    "text_splitter=RecursiveCharacterTextSplitter(chunk_size=1000,chunk_overlap=200)\n",
    "final_documents=text_splitter.split_documents(documents)\n"
   ]
  },
  {
   "cell_type": "code",
   "execution_count": 27,
   "metadata": {},
   "outputs": [
    {
     "data": {
      "text/plain": [
       "Document(metadata={'producer': 'Adobe PDF Library 17.0', 'creator': 'Adobe InDesign 18.2 (Windows)', 'creationdate': '2023-09-09T07:52:17-04:00', 'author': 'U.S. Census Bureau', 'keywords': 'acsbr-015', 'moddate': '2023-09-12T14:44:47+01:00', 'title': 'Health Insurance Coverage Status and Type by Geography: 2021 and 2022', 'trapped': '/false', 'source': 'us_census_data\\\\acsbr-015.pdf', 'total_pages': 18, 'page': 0, 'page_label': '1'}, page_content='Health Insurance Coverage Status and Type \\nby Geography: 2021 and 2022\\nAmerican Community Survey Briefs\\nACSBR-015\\nIssued September 2023\\nDouglas Conway and Breauna Branch\\nINTRODUCTION\\nDemographic shifts as well as economic and govern-\\nment policy changes can affect people’s access to \\nhealth coverage. For example, between 2021 and 2022, \\nthe labor market continued to improve, which may \\nhave affected private coverage in the United States \\nduring that time.1 Public policy changes included \\nthe renewal of the Public Health Emergency, which \\nallowed Medicaid enrollees to remain covered under \\nthe Continuous Enrollment Provision.2 The American \\nRescue Plan (ARP) enhanced Marketplace premium \\nsubsidies for those with incomes above 400 percent \\nof the poverty level as well as for unemployed people.3\\nIn addition to national policies, individual states and \\nthe District of Columbia can affect health insurance \\ncoverage by making Marketplace or Medicaid more')"
      ]
     },
     "execution_count": 27,
     "metadata": {},
     "output_type": "execute_result"
    }
   ],
   "source": [
    "final_documents[0]"
   ]
  },
  {
   "cell_type": "code",
   "execution_count": 28,
   "metadata": {},
   "outputs": [
    {
     "data": {
      "text/plain": [
       "316"
      ]
     },
     "execution_count": 28,
     "metadata": {},
     "output_type": "execute_result"
    }
   ],
   "source": [
    "len(final_documents)"
   ]
  },
  {
   "cell_type": "markdown",
   "metadata": {},
   "source": [
    "#### Step 4: Convert Text into Embeddings Using Hugging Face"
   ]
  },
  {
   "cell_type": "code",
   "execution_count": 31,
   "metadata": {},
   "outputs": [
    {
     "name": "stderr",
     "output_type": "stream",
     "text": [
      "c:\\Users\\Sahana Kommalapati\\OneDrive\\Desktop\\LANGCHAIN\\venv\\Lib\\site-packages\\tqdm\\auto.py:21: TqdmWarning: IProgress not found. Please update jupyter and ipywidgets. See https://ipywidgets.readthedocs.io/en/stable/user_install.html\n",
      "  from .autonotebook import tqdm as notebook_tqdm\n",
      "c:\\Users\\Sahana Kommalapati\\OneDrive\\Desktop\\LANGCHAIN\\venv\\Lib\\site-packages\\huggingface_hub\\file_download.py:142: UserWarning: `huggingface_hub` cache-system uses symlinks by default to efficiently store duplicated files but your machine does not support them in C:\\Users\\Sahana Kommalapati\\.cache\\huggingface\\hub\\models--BAAI--bge-small-en-v1.5. Caching files will still work but in a degraded version that might require more space on your disk. This warning can be disabled by setting the `HF_HUB_DISABLE_SYMLINKS_WARNING` environment variable. For more details, see https://huggingface.co/docs/huggingface_hub/how-to-cache#limitations.\n",
      "To support symlinks on Windows, you either need to activate Developer Mode or to run Python as an administrator. In order to activate developer mode, see this article: https://docs.microsoft.com/en-us/windows/apps/get-started/enable-your-device-for-development\n",
      "  warnings.warn(message)\n"
     ]
    }
   ],
   "source": [
    "\n",
    "## Embedding Using Huggingface\n",
    "huggingface_embeddings=HuggingFaceBgeEmbeddings(\n",
    "    model_name=\"BAAI/bge-small-en-v1.5\",      #sentence-transformers/all-MiniLM-l6-v2\n",
    "    model_kwargs={'device':'cpu'},\n",
    "    encode_kwargs={'normalize_embeddings':True}\n",
    ")"
   ]
  },
  {
   "cell_type": "markdown",
   "metadata": {},
   "source": [
    "#### Step 5: Test the Embeddings"
   ]
  },
  {
   "cell_type": "code",
   "execution_count": 32,
   "metadata": {},
   "outputs": [
    {
     "name": "stdout",
     "output_type": "stream",
     "text": [
      "[-0.07903485 -0.01134113 -0.02312097  0.02844461  0.05053344  0.05317826\n",
      " -0.01907787  0.03456026 -0.10211368 -0.02915702  0.0852426   0.05650727\n",
      " -0.02545439 -0.0330849  -0.00635735  0.04090864 -0.00628108  0.00356744\n",
      " -0.03854129  0.03667685 -0.04289803  0.03425252 -0.03116899 -0.03793729\n",
      "  0.01728391  0.01214924  0.00653119  0.01463565 -0.05529054 -0.15320712\n",
      "  0.00730845  0.03202944 -0.04701132 -0.01595974  0.0187445   0.02642936\n",
      " -0.02306378  0.08438035  0.04182485  0.05278177 -0.03057602  0.01564262\n",
      " -0.01689074  0.00529409 -0.02417436  0.00412995 -0.01889937 -0.00150625\n",
      " -0.00836945 -0.03390065  0.03515961 -0.00553131  0.04910938  0.05971856\n",
      "  0.05615963 -0.05105155  0.01475136 -0.01849959 -0.03284641  0.03576624\n",
      "  0.04947704 -0.00938883 -0.26202118  0.0975033   0.01715692  0.0478139\n",
      " -0.00556317 -0.00298307 -0.02207355 -0.04463669 -0.05760482  0.04815878\n",
      " -0.05522206  0.01635333  0.03299246  0.02147079  0.01296219  0.01462309\n",
      "  0.02174952 -0.00202999  0.02099538  0.03353847 -0.00345107 -0.04823537\n",
      "  0.05149956 -0.08948108  0.04491429 -0.03423372  0.02495744 -0.03332327\n",
      " -0.04124895  0.01226977  0.00551145  0.02813654  0.00750807  0.03364133\n",
      " -0.00718593 -0.00677302 -0.02375995  0.34350553 -0.02040539  0.00967846\n",
      " -0.0093651   0.01524741 -0.00692599 -0.0580374  -0.00443029  0.01115697\n",
      "  0.01746202  0.01258483  0.02158611 -0.02646193  0.01026773  0.04782214\n",
      " -0.03718098 -0.01986199  0.04008092  0.01574838  0.09363519 -0.02635872\n",
      " -0.01393858  0.03410932 -0.01630284 -0.04708786  0.02137171  0.06708884\n",
      "  0.05438907  0.15054181  0.0344439  -0.04218607  0.10422419 -0.04002277\n",
      " -0.00191296  0.00459117 -0.00292591  0.00371355 -0.02687687  0.03972115\n",
      " -0.00739632  0.05129854  0.00698695 -0.00043552 -0.00752807 -0.13413782\n",
      " -0.03140992  0.17964657 -0.02152573  0.04534229  0.02027219 -0.01826408\n",
      " -0.04439813  0.04787034 -0.03801551  0.04057755 -0.03817714  0.01659362\n",
      " -0.0036818   0.02469144 -0.02634713 -0.06727428  0.05705411 -0.03698837\n",
      " -0.05754095  0.01774044  0.04163105 -0.0269981  -0.01342312 -0.06434498\n",
      "  0.02320635  0.00476098  0.0134585   0.05142655  0.01828842 -0.02267212\n",
      "  0.08680936  0.02288989 -0.02278558 -0.00261808 -0.00936064 -0.0596436\n",
      "  0.0037007  -0.02772143 -0.05116594 -0.04951672 -0.01691759 -0.04342571\n",
      " -0.06551474  0.05782724  0.04989289 -0.01559615 -0.00385899  0.00827745\n",
      " -0.06377076  0.01969863 -0.01933413 -0.01095794 -0.059908   -0.02187357\n",
      "  0.03869356 -0.02963529 -0.03095985  0.0262945   0.00857688 -0.00225385\n",
      " -0.00917326  0.0200688   0.02308834 -0.06949829  0.03825644 -0.01321396\n",
      "  0.00288254  0.04065885  0.03197154  0.00364806  0.03610993  0.01653041\n",
      "  0.01282879 -0.02190454  0.02050887  0.03220994  0.03351384  0.06819049\n",
      "  0.09490158 -0.27463818 -0.0049903   0.00181547  0.0068773  -0.06947189\n",
      " -0.05266641 -0.04547604  0.02707842  0.00403481  0.08909722  0.06208605\n",
      " -0.00817409 -0.02176251  0.10530712  0.02105069 -0.08313887  0.0264829\n",
      " -0.02122216 -0.01542387 -0.00282385  0.00493171  0.0048772  -0.06012275\n",
      " -0.02174246  0.08150737 -0.01746733  0.06210523 -0.05241903 -0.07425196\n",
      "  0.00045816 -0.05536216  0.05762161 -0.00776098 -0.1196596   0.06155293\n",
      "  0.0177332  -0.07490137  0.00434345 -0.06374461 -0.03096171 -0.02682651\n",
      "  0.05158744 -0.06356605  0.02999    -0.01865463 -0.05194327  0.04636511\n",
      "  0.07127585 -0.08020446  0.01025251  0.00649389 -0.03402686 -0.03371226\n",
      " -0.01476089  0.02565074 -0.0625182  -0.03164579  0.03269229 -0.01906627\n",
      " -0.00269565  0.02393796  0.00502713  0.04807226 -0.00441301 -0.00810784\n",
      " -0.04506411  0.01010008 -0.0308529  -0.07091323  0.00998589  0.00276084\n",
      "  0.04710478 -0.02302788 -0.02459354  0.01797341 -0.02112836  0.04660883\n",
      " -0.00104203 -0.00374577 -0.04950179  0.04251799 -0.05733848  0.02055239\n",
      "  0.04219677 -0.01167059  0.01241851  0.01056793  0.00663803 -0.01598003\n",
      "  0.016328   -0.02056749 -0.01553832 -0.01156683 -0.01864408  0.00332142\n",
      "  0.00658677 -0.21910886  0.04714743  0.02075719 -0.02441516 -0.00868851\n",
      " -0.01634119 -0.02499121  0.00766706 -0.01083085 -0.02472531  0.05254847\n",
      "  0.08288425  0.11848132 -0.01936331 -0.00433765  0.00458103  0.06947738\n",
      "  0.0012453   0.02368699 -0.03457181  0.06163957 -0.06045358  0.14640087\n",
      " -0.03099669  0.01726847 -0.06827351 -0.0164134   0.0376527  -0.03385304\n",
      "  0.01721653  0.02592444 -0.00034787  0.02241217 -0.01919535  0.05005867\n",
      "  0.00834137  0.00977348  0.05592789  0.00274983  0.02592716 -0.04995015\n",
      " -0.02017875  0.02317918  0.01068105  0.064628   -0.02950335 -0.04529897\n",
      " -0.06358046 -0.01058145  0.06793744  0.00993985 -0.02914158  0.00441982\n",
      "  0.01224193 -0.05699342 -0.01181842 -0.06126492  0.03326268  0.00284463\n",
      " -0.01248828  0.02214624  0.04263505 -0.07597518  0.0123405   0.06002008]\n",
      "(384,)\n"
     ]
    }
   ],
   "source": [
    "import  numpy as np\n",
    "print(np.array(huggingface_embeddings.embed_query(final_documents[0].page_content)))\n",
    "print(np.array(huggingface_embeddings.embed_query(final_documents[0].page_content)).shape)"
   ]
  },
  {
   "cell_type": "markdown",
   "metadata": {},
   "source": [
    "#### Step 6: Store Documents in FAISS (Vector Database)"
   ]
  },
  {
   "cell_type": "code",
   "execution_count": 33,
   "metadata": {},
   "outputs": [],
   "source": [
    "## VectorStore Creation\n",
    "vectorstore=FAISS.from_documents(final_documents[:120],huggingface_embeddings)"
   ]
  },
  {
   "cell_type": "markdown",
   "metadata": {},
   "source": [
    "#### Step 7: Retrieve Similar Documents"
   ]
  },
  {
   "cell_type": "code",
   "execution_count": 34,
   "metadata": {},
   "outputs": [
    {
     "name": "stdout",
     "output_type": "stream",
     "text": [
      "2 U.S. Census Bureau\n",
      "WHAT IS HEALTH INSURANCE COVERAGE?\n",
      "This brief presents state-level estimates of health insurance coverage \n",
      "using data from the American Community Survey (ACS). The  \n",
      "U.S. Census Bureau conducts the ACS throughout the year; the \n",
      "survey asks respondents to report their coverage at the time of \n",
      "interview. The resulting measure of health insurance coverage, \n",
      "therefore, reflects an annual average of current comprehensive \n",
      "health insurance coverage status.* This uninsured rate measures a \n",
      "different concept than the measure based on the Current Population \n",
      "Survey Annual Social and Economic Supplement (CPS ASEC). \n",
      "For reporting purposes, the ACS broadly classifies health insurance \n",
      "coverage as private insurance or public insurance. The ACS defines \n",
      "private health insurance as a plan provided through an employer \n",
      "or a union, coverage purchased directly by an individual from an \n",
      "insurance company or through an exchange (such as healthcare.\n"
     ]
    }
   ],
   "source": [
    "## Query using Similarity Search\n",
    "query=\"WHAT IS HEALTH INSURANCE COVERAGE?\"\n",
    "relevant_docments=vectorstore.similarity_search(query)\n",
    "print(relevant_docments[0].page_content)"
   ]
  },
  {
   "cell_type": "markdown",
   "metadata": {},
   "source": [
    "####  Step 8: Convert FAISS into a Retriever"
   ]
  },
  {
   "cell_type": "code",
   "execution_count": 35,
   "metadata": {},
   "outputs": [
    {
     "name": "stdout",
     "output_type": "stream",
     "text": [
      "tags=['FAISS', 'HuggingFaceBgeEmbeddings'] vectorstore=<langchain_community.vectorstores.faiss.FAISS object at 0x0000019B59940B60> search_kwargs={'k': 3}\n"
     ]
    }
   ],
   "source": [
    "retriever=vectorstore.as_retriever(search_type=\"similarity\",search_kwargs={\"k\":3})\n",
    "print(retriever)"
   ]
  },
  {
   "cell_type": "markdown",
   "metadata": {},
   "source": [
    "#### Step 9: Set Up Hugging Face API for Mistral-7B"
   ]
  },
  {
   "cell_type": "code",
   "execution_count": null,
   "metadata": {},
   "outputs": [],
   "source": [
    "\n",
    "import os\n",
    "\n",
    "os.environ[\"HUGGINGFACEHUB_API_TOKEN\"] = \"\"  "
   ]
  },
  {
   "cell_type": "markdown",
   "metadata": {},
   "source": [
    "#### Step 10: Initialize Mistral-7B for Question Answering"
   ]
  },
  {
   "cell_type": "code",
   "execution_count": 68,
   "metadata": {},
   "outputs": [
    {
     "name": "stderr",
     "output_type": "stream",
     "text": [
      "c:\\Users\\Sahana Kommalapati\\OneDrive\\Desktop\\LANGCHAIN\\venv\\Lib\\site-packages\\huggingface_hub\\utils\\_deprecation.py:131: FutureWarning: 'post' (from 'huggingface_hub.inference._client') is deprecated and will be removed from version '0.31.0'. Making direct POST requests to the inference server is not supported anymore. Please use task methods instead (e.g. `InferenceClient.chat_completion`). If your use case is not supported, please open an issue in https://github.com/huggingface/huggingface_hub.\n",
      "  warnings.warn(warning_message, FutureWarning)\n"
     ]
    },
    {
     "name": "stdout",
     "output_type": "stream",
     "text": [
      "\n",
      "\n",
      "Health insurance coverage refers to the benefits provided by an insurance policy to pay for medical and health-related expenses. These expenses can include doctor visits, hospital stays, prescription medications, and preventative care services. The specific coverage and costs will depend on the terms of the particular insurance policy.\n",
      "\n",
      "Health insurance can be obtained through an employer, purchased individually, or through government programs such as Medicare or Medicaid. The Affordable Care Act (ACA) also provides options for individuals to purchase health insurance through state-based marketplaces.\n",
      "\n",
      "It's important to note that health insurance coverage can vary widely, and it's essential to understand the specific terms and conditions of your policy to know what is covered and what is not. Regularly reviewing your policy and asking questions of your insurance provider can help ensure that you are getting the most out of your coverage.\n"
     ]
    }
   ],
   "source": [
    "\n",
    "from langchain_huggingface import HuggingFaceEndpoint\n",
    "\n",
    "hf = HuggingFaceEndpoint(\n",
    "    endpoint_url=\"https://api-inference.huggingface.co/models/mistralai/Mistral-7B-Instruct-v0.2\",\n",
    "    temperature=0.1,\n",
    "    model_kwargs={\"max_length\": 500},\n",
    "    timeout=600\n",
    ")\n",
    "\n",
    "query = \"What is the health insurance coverage?\"\n",
    "response = hf.invoke(query)\n",
    "print(response)"
   ]
  },
  {
   "cell_type": "markdown",
   "metadata": {},
   "source": [
    "#### Step 11: Create a Custom Prompt"
   ]
  },
  {
   "cell_type": "code",
   "execution_count": 70,
   "metadata": {},
   "outputs": [],
   "source": [
    "prompt_template=\"\"\"\n",
    "Use the following piece of context to answer the question asked.\n",
    "Please try to provide the answer only based on the context\n",
    "\n",
    "{context}\n",
    "Question:{question}\n",
    "\n",
    "Helpful Answers:\n",
    " \"\"\"\n"
   ]
  },
  {
   "cell_type": "code",
   "execution_count": 71,
   "metadata": {},
   "outputs": [],
   "source": [
    "prompt=PromptTemplate(template=prompt_template,input_variables=[\"context\",\"question\"])"
   ]
  },
  {
   "cell_type": "markdown",
   "metadata": {},
   "source": [
    "#### Step 12: Create Retrieval-Augmented QA Chain\n"
   ]
  },
  {
   "cell_type": "code",
   "execution_count": 72,
   "metadata": {},
   "outputs": [],
   "source": [
    "retrievalQA=RetrievalQA.from_chain_type(\n",
    "    llm=hf,\n",
    "    chain_type=\"stuff\",\n",
    "    retriever=retriever,\n",
    "    return_source_documents=True,\n",
    "    chain_type_kwargs={\"prompt\":prompt}\n",
    ")"
   ]
  },
  {
   "cell_type": "markdown",
   "metadata": {},
   "source": [
    "#### Step 13: Query the RAG System"
   ]
  },
  {
   "cell_type": "code",
   "execution_count": 73,
   "metadata": {},
   "outputs": [],
   "source": [
    "\n",
    "query=\"\"\"DIFFERENCES IN THE\n",
    "UNINSURED RATE BY STATE\n",
    "IN 2022\"\"\""
   ]
  },
  {
   "cell_type": "code",
   "execution_count": 74,
   "metadata": {},
   "outputs": [
    {
     "name": "stderr",
     "output_type": "stream",
     "text": [
      "c:\\Users\\Sahana Kommalapati\\OneDrive\\Desktop\\LANGCHAIN\\venv\\Lib\\site-packages\\huggingface_hub\\utils\\_deprecation.py:131: FutureWarning: 'post' (from 'huggingface_hub.inference._client') is deprecated and will be removed from version '0.31.0'. Making direct POST requests to the inference server is not supported anymore. Please use task methods instead (e.g. `InferenceClient.chat_completion`). If your use case is not supported, please open an issue in https://github.com/huggingface/huggingface_hub.\n",
      "  warnings.warn(warning_message, FutureWarning)\n"
     ]
    },
    {
     "name": "stdout",
     "output_type": "stream",
     "text": [
      "1. The uninsured rate in Massachusetts was the lowest at 2.4% in 2022, while Texas had the highest rate at 16.6%. The national rate was 8.0%.\n",
      " 2. Ten states had uninsured rates above the national average.\n",
      " 3. Medicaid coverage accounted for a larger percentage in states that expanded Medicaid eligibility (22.7%) compared to nonexpansion states (18.0%).\n",
      " 4. Uninsured rates decreased in 27 states from 2021 to 2022, while Maine had an increase. Maine's uninsured rate remained below the national average.\n",
      " 5. The private coverage rates were not statistically different in North Dakota and Utah.\n",
      " 6. The most populous metropolitan areas with the lowest uninsured rates were Boston-Cambridge-Newton, MA-NH, and San Francisco-Oakland-Berkeley, CA.\n",
      " 7. Detroit-Warren-Dearborn, MI had a statistically significant increase in the uninsured rate from 2021 to 2022.\n",
      " 8. For more information on confidentiality protection, sampling error, nonsampling error, and definitions in the American Community Survey, refer to the provided link.\n",
      " 9. The American Community Survey is a source of information on various demographic, social, economic, and housing characteristics of the population.\n",
      " 10. The American Community Survey uses a complex sample design and statistical methods to produce reliable estimates.\n"
     ]
    }
   ],
   "source": [
    "# Call the QA chain with our query.\n",
    "result = retrievalQA.invoke({\"query\": query})\n",
    "print(result['result'])"
   ]
  },
  {
   "cell_type": "code",
   "execution_count": null,
   "metadata": {},
   "outputs": [],
   "source": []
  }
 ],
 "metadata": {
  "kernelspec": {
   "display_name": "Python 3",
   "language": "python",
   "name": "python3"
  },
  "language_info": {
   "codemirror_mode": {
    "name": "ipython",
    "version": 3
   },
   "file_extension": ".py",
   "mimetype": "text/x-python",
   "name": "python",
   "nbconvert_exporter": "python",
   "pygments_lexer": "ipython3",
   "version": "3.12.0"
  }
 },
 "nbformat": 4,
 "nbformat_minor": 2
}
